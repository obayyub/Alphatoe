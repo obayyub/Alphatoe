{
 "cells": [
  {
   "cell_type": "code",
   "execution_count": 14,
   "metadata": {},
   "outputs": [
    {
     "name": "stdout",
     "output_type": "stream",
     "text": [
      "The autoreload extension is already loaded. To reload it, use:\n",
      "  %reload_ext autoreload\n"
     ]
    }
   ],
   "source": [
    "import pickle\n",
    "import torch\n",
    "import numpy as np\n",
    "import matplotlib.pyplot as plt\n",
    "import matplotlib.animation as animation\n",
    "from matplotlib.animation import FuncAnimation\n",
    "from alphatoe.interpretability import numpy\n",
    "from alphatoe import plot, game, evals, interpretability\n",
    "%load_ext autoreload\n",
    "%autoreload 2"
   ]
  },
  {
   "cell_type": "code",
   "execution_count": 11,
   "metadata": {},
   "outputs": [],
   "source": [
    "n_epochs = 1000\n",
    "epochs = [x for x in range(n_epochs) if x % 10 == 0 or x == n_epochs - 1]\n",
    "\n",
    "chkpts = [interpretability.load_model(\n",
    "    f\"../scripts/models/prob all 8 layer control with checkpoints-20250708-002411-epoch{x}\"\n",
    ") for x in epochs]\n",
    "\n",
    "model = interpretability.load_model(\n",
    "    \"../scripts/models/prob all 8 layer control with checkpoints-20250708-002411\"\n",
    ")\n",
    "\n",
    "chkpts = [(x, y) for x, y in zip(epochs, chkpts)]"
   ]
  },
  {
   "cell_type": "code",
   "execution_count": 15,
   "metadata": {},
   "outputs": [],
   "source": [
    "# First, let's extract the data for all epochs\n",
    "def get_projection_data(model, seq_fwd):\n",
    "    \"\"\"Extract W_Q and compute projection for a given model checkpoint\"\"\"\n",
    "    pos_emb = model.pos_embed(seq_fwd, 0)[0]  # positional embedding (10, 128)\n",
    "    W_Q = model.W_Q[0, 1]  # Head index 1 (128, 16)\n",
    "    \n",
    "    # Compute SVD\n",
    "    U, S, V = np.linalg.svd(numpy(W_Q))\n",
    "    \n",
    "    # Project positional embeddings onto first singular vector\n",
    "    Q_proj = numpy(pos_emb) @ U[:, :1]\n",
    "    \n",
    "    # Convert to list of values\n",
    "    Q_proj = Q_proj.flatten().tolist()\n",
    "    \n",
    "    return Q_proj"
   ]
  },
  {
   "cell_type": "code",
   "execution_count": 16,
   "metadata": {},
   "outputs": [],
   "source": [
    "# Prepare sequence\n",
    "seq_fwd = torch.tensor([[10, 0, 1, 2, 3, 4, 5, 7, 8, 6]])\n",
    "\n",
    "# Get projections for all checkpoints\n",
    "all_projections = []\n",
    "for epoch, checkpoint in chkpts:\n",
    "    proj = get_projection_data(checkpoint, seq_fwd)\n",
    "    all_projections.append((epoch, proj))\n",
    "\n",
    "# Also get projection for final model\n",
    "final_proj = get_projection_data(model, seq_fwd)\n",
    "all_projections.append((n_epochs, final_proj))"
   ]
  },
  {
   "cell_type": "code",
   "execution_count": 23,
   "metadata": {},
   "outputs": [
    {
     "name": "stderr",
     "output_type": "stream",
     "text": [
      "/Users/omarayyub/p/Alphatoe/.venv/lib/python3.11/site-packages/matplotlib/animation.py:884: UserWarning: Animation was deleted without rendering anything. This is most likely not intended. To prevent deletion, assign the Animation to a variable, e.g. `anim`, that exists until you output the Animation using `plt.show()` or `anim.save()`.\n",
      "  warnings.warn(\n"
     ]
    },
    {
     "data": {
      "image/png": "[encoded data removed]",
      "text/plain": [
       "<Figure size 1200x400 with 1 Axes>"
      ]
     },
     "metadata": {},
     "output_type": "display_data"
    }
   ],
   "source": [
    "# Create the animation\n",
    "fig, ax = plt.subplots(figsize=(12, 4))\n",
    "\n",
    "# Set up the plot limits based on all data\n",
    "all_values = [val for _, proj in all_projections for val in proj]\n",
    "x_margin = 0.1 * (max(all_values) - min(all_values))\n",
    "ax.set_xlim(min(all_values) - x_margin, max(all_values) + x_margin)\n",
    "ax.set_ylim(-20, 20)\n",
    "\n",
    "# Remove y-axis and spines\n",
    "ax.yaxis.set_visible(False)\n",
    "for spine in ['left', 'top', 'right']:\n",
    "    ax.spines[spine].set_visible(False)\n",
    "\n",
    "# Set labels\n",
    "ax.set_xlabel('Projection Value', fontsize=12)\n",
    "\n",
    "# Initialize plot elements\n",
    "line, = ax.plot([], [], 'b-', linewidth=2)\n",
    "points, = ax.plot([], [], 'bo', markersize=10)\n",
    "annotations = []\n",
    "epoch_text = ax.text(0.02, 0.98, '', transform=ax.transAxes, \n",
    "                     fontsize=14, fontweight='bold', va='top')\n",
    "\n",
    "def init():\n",
    "    \"\"\"Initialize animation\"\"\"\n",
    "    line.set_data([], [])\n",
    "    points.set_data([], [])\n",
    "    for ann in annotations:\n",
    "        ann.remove()\n",
    "    annotations.clear()\n",
    "    epoch_text.set_text('')\n",
    "    return line, points, epoch_text\n",
    "\n",
    "def animate(frame):\n",
    "    \"\"\"Update animation for each frame\"\"\"\n",
    "    epoch, proj_values = all_projections[frame]\n",
    "    \n",
    "    # Create position-value pairs\n",
    "    positions = list(range(10))\n",
    "    \n",
    "    # Update line and points\n",
    "    line.set_data(proj_values, [0]*len(proj_values))\n",
    "    points.set_data(proj_values, [0]*len(proj_values))\n",
    "    \n",
    "    # Clear previous annotations\n",
    "    for ann in annotations:\n",
    "        ann.remove()\n",
    "    annotations.clear()\n",
    "    \n",
    "    # Add new annotations\n",
    "    for i, (pos, val) in enumerate(zip(positions, proj_values)):\n",
    "        if i % 2 == 0:\n",
    "            y_pos = 10\n",
    "            va = 'bottom'\n",
    "        else:\n",
    "            y_pos = -10\n",
    "            va = 'top'\n",
    "        \n",
    "        ann = ax.annotate(f'Pos {pos}', (val, 0), \n",
    "                         xytext=(0, y_pos), \n",
    "                         textcoords='offset points',\n",
    "                         ha='center', va=va,\n",
    "                         rotation=45, \n",
    "                         rotation_mode='anchor',\n",
    "                         fontsize=10)\n",
    "        annotations.append(ann)\n",
    "    \n",
    "    # Update epoch text\n",
    "    epoch_text.set_text(f'Epoch: {epoch}')\n",
    "    \n",
    "    # Update title\n",
    "    ax.set_title('Projection of Positional Embeddings onto First Singular Vector of W_Q', \n",
    "                 fontsize=14, pad=20)\n",
    "    \n",
    "    return line, points, epoch_text, *annotations\n",
    "\n",
    "# Create animation\n",
    "anim = FuncAnimation(fig, animate, init_func=init, \n",
    "                    frames=len(all_projections), \n",
    "                    interval=200,  # 200ms between frames\n",
    "                    repeat=True,\n",
    "                    blit=False)\n",
    "\n",
    "# Show the animation\n",
    "plt.tight_layout()\n",
    "plt.show()\n",
    "\n",
    "# Save the animation as a GIF\n",
    "anim.save('projection_animation.gif', writer='pillow', fps=5)"
   ]
  }
 ],
 "metadata": {
  "kernelspec": {
   "display_name": ".venv",
   "language": "python",
   "name": "python3"
  },
  "language_info": {
   "codemirror_mode": {
    "name": "ipython",
    "version": 3
   },
   "file_extension": ".py",
   "mimetype": "text/x-python",
   "name": "python",
   "nbconvert_exporter": "python",
   "pygments_lexer": "ipython3",
   "version": "3.11.4"
  },
  "orig_nbformat": 4
 },
 "nbformat": 4,
 "nbformat_minor": 2
}
