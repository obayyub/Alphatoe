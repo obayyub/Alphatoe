{
 "cells": [
  {
   "cell_type": "code",
   "execution_count": 26,
   "metadata": {},
   "outputs": [
    {
     "name": "stdout",
     "output_type": "stream",
     "text": [
      "The autoreload extension is already loaded. To reload it, use:\n",
      "  %reload_ext autoreload\n"
     ]
    }
   ],
   "source": [
    "import pickle\n",
    "import torch\n",
    "import numpy as np\n",
    "import matplotlib.pyplot as plt\n",
    "import matplotlib.animation as animation\n",
    "from matplotlib.animation import FuncAnimation\n",
    "from alphatoe.interpretability import numpy\n",
    "from alphatoe import plot, game, evals, interpretability\n",
    "import pandas as pd\n",
    "from tqdm import tqdm\n",
    "%load_ext autoreload\n",
    "%autoreload 2"
   ]
  },
  {
   "cell_type": "code",
   "execution_count": 27,
   "metadata": {},
   "outputs": [
    {
     "name": "stderr",
     "output_type": "stream",
     "text": [
      "  0%|          | 0/101 [03:40<?, ?it/s]\n",
      "  0%|          | 0/101 [03:17<?, ?it/s]\n"
     ]
    }
   ],
   "source": [
    "n_epochs = 1000\n",
    "epochs = [x for x in range(n_epochs) if x % 10 == 0 or x == n_epochs - 1]\n",
    "\n",
    "chkpts = [interpretability.load_model(\n",
    "    f\"../scripts/models/prob all 8 layer control with checkpoints-20250708-002411-epoch{x}\"\n",
    ") for x in epochs]\n",
    "\n",
    "model = interpretability.load_model(\n",
    "    \"../scripts/models/prob all 8 layer control with checkpoints-20250708-002411\"\n",
    ")\n",
    "\n",
    "data = pd.read_csv(\"../scripts/models/prob all 8 layer control with save_losses training data-20250712-115129.csv\")\n",
    "\n",
    "chkpts = [(x, y) for x, y in zip(epochs, chkpts)]"
   ]
  },
  {
   "cell_type": "code",
   "execution_count": 28,
   "metadata": {},
   "outputs": [],
   "source": [
    "data['epoch'] = data['Unnamed: 0']//50"
   ]
  },
  {
   "cell_type": "code",
   "execution_count": 39,
   "metadata": {},
   "outputs": [
    {
     "data": {
      "text/html": [
       "<div>\n",
       "<style scoped>\n",
       "    .dataframe tbody tr th:only-of-type {\n",
       "        vertical-align: middle;\n",
       "    }\n",
       "\n",
       "    .dataframe tbody tr th {\n",
       "        vertical-align: top;\n",
       "    }\n",
       "\n",
       "    .dataframe thead th {\n",
       "        text-align: right;\n",
       "    }\n",
       "</style>\n",
       "<table border=\"1\" class=\"dataframe\">\n",
       "  <thead>\n",
       "    <tr style=\"text-align: right;\">\n",
       "      <th></th>\n",
       "      <th>Unnamed: 0</th>\n",
       "      <th>test losses</th>\n",
       "      <th>train losses</th>\n",
       "      <th>epoch</th>\n",
       "    </tr>\n",
       "  </thead>\n",
       "  <tbody>\n",
       "    <tr>\n",
       "      <th>0</th>\n",
       "      <td>0</td>\n",
       "      <td>2.293837</td>\n",
       "      <td>2.293870</td>\n",
       "      <td>0</td>\n",
       "    </tr>\n",
       "    <tr>\n",
       "      <th>1</th>\n",
       "      <td>1</td>\n",
       "      <td>2.293426</td>\n",
       "      <td>2.293280</td>\n",
       "      <td>0</td>\n",
       "    </tr>\n",
       "    <tr>\n",
       "      <th>2</th>\n",
       "      <td>2</td>\n",
       "      <td>2.293015</td>\n",
       "      <td>2.293519</td>\n",
       "      <td>0</td>\n",
       "    </tr>\n",
       "    <tr>\n",
       "      <th>3</th>\n",
       "      <td>3</td>\n",
       "      <td>2.292604</td>\n",
       "      <td>2.292862</td>\n",
       "      <td>0</td>\n",
       "    </tr>\n",
       "    <tr>\n",
       "      <th>4</th>\n",
       "      <td>4</td>\n",
       "      <td>2.292193</td>\n",
       "      <td>2.292618</td>\n",
       "      <td>0</td>\n",
       "    </tr>\n",
       "  </tbody>\n",
       "</table>\n",
       "</div>"
      ],
      "text/plain": [
       "   Unnamed: 0  test losses  train losses  epoch\n",
       "0           0     2.293837      2.293870      0\n",
       "1           1     2.293426      2.293280      0\n",
       "2           2     2.293015      2.293519      0\n",
       "3           3     2.292604      2.292862      0\n",
       "4           4     2.292193      2.292618      0"
      ]
     },
     "execution_count": 39,
     "metadata": {},
     "output_type": "execute_result"
    }
   ],
   "source": [
    "data.head()"
   ]
  },
  {
   "cell_type": "code",
   "execution_count": 36,
   "metadata": {},
   "outputs": [
    {
     "name": "stderr",
     "output_type": "stream",
     "text": [
      "  0%|          | 0/10 [00:00<?, ?it/s]\n",
      "500it [00:00, 25675.53it/s]\n",
      " 10%|█         | 1/10 [00:06<00:55,  6.12s/it]\n",
      "500it [00:00, 10913.17it/s]\n",
      " 20%|██        | 2/10 [00:12<00:48,  6.05s/it]\n",
      "500it [00:00, 11689.88it/s]\n",
      " 30%|███       | 3/10 [00:17<00:41,  5.90s/it]\n",
      "500it [00:00, 11562.58it/s]\n",
      " 40%|████      | 4/10 [00:23<00:35,  5.83s/it]\n",
      "500it [00:00, 11632.62it/s]\n",
      " 50%|█████     | 5/10 [00:29<00:28,  5.80s/it]\n",
      "500it [00:00, 11468.75it/s]\n",
      " 60%|██████    | 6/10 [00:35<00:23,  5.78s/it]\n",
      "500it [00:00, 11492.13it/s]\n",
      " 70%|███████   | 7/10 [00:40<00:17,  5.77s/it]\n",
      "500it [00:00, 11136.82it/s]\n",
      " 80%|████████  | 8/10 [00:46<00:11,  5.76s/it]\n",
      "500it [00:00, 11344.97it/s]\n",
      " 90%|█████████ | 9/10 [00:52<00:05,  5.75s/it]\n",
      "500it [00:00, 11144.22it/s]\n",
      "100%|██████████| 10/10 [00:58<00:00,  5.81s/it]\n"
     ]
    }
   ],
   "source": [
    "\n",
    "filtered_chkpts = [(epoch, model) for epoch, model in chkpts \n",
    "                   if (epoch % 100 == 0 or epoch == len(chkpts) - 1)]\n",
    "num_games = 500\n",
    "chkpt_evals = []\n",
    "for epoch, model in tqdm(filtered_chkpts):\n",
    "    result = evals.eval_model(evals.sample_games_batch(model, 1, num_games, batch_size = 2000))\n",
    "    chkpt_evals.append((epoch, result))"
   ]
  },
  {
   "cell_type": "code",
   "execution_count": 40,
   "metadata": {},
   "outputs": [
    {
     "data": {
      "text/plain": [
       "[<matplotlib.lines.Line2D at 0x7b3122ed9d80>]"
      ]
     },
     "execution_count": 40,
     "metadata": {},
     "output_type": "execute_result"
    },
    {
     "data": {
      "image/png": "[encoded data removed]",
      "text/plain": [
       "<Figure size 640x480 with 1 Axes>"
      ]
     },
     "metadata": {},
     "output_type": "display_data"
    }
   ],
   "source": [
    "fig, ax = plt.subplots(1, 1)\n",
    "ax.plot(data['epoch'], data['test losses'])"
   ]
  },
  {
   "cell_type": "code",
   "execution_count": 37,
   "metadata": {},
   "outputs": [
    {
     "data": {
      "text/plain": [
       "[(0,\n",
       "  {'_check_played_repeat_moves': 0.996,\n",
       "   '_check_played_after_player_victory': 0.02,\n",
       "   '_check_played_after_draw_game': 0.0,\n",
       "   'inappropriate_end_state': 0.414,\n",
       "   '_check_if_illegal_moves': 1.0}),\n",
       " (100,\n",
       "  {'_check_played_repeat_moves': 0.03,\n",
       "   '_check_played_after_player_victory': 0.442,\n",
       "   '_check_played_after_draw_game': 0.0,\n",
       "   'inappropriate_end_state': 0.21,\n",
       "   '_check_if_illegal_moves': 0.662}),\n",
       " (200,\n",
       "  {'_check_played_repeat_moves': 0.004,\n",
       "   '_check_played_after_player_victory': 0.448,\n",
       "   '_check_played_after_draw_game': 0.0,\n",
       "   'inappropriate_end_state': 0.246,\n",
       "   '_check_if_illegal_moves': 0.696}),\n",
       " (300,\n",
       "  {'_check_played_repeat_moves': 0.004,\n",
       "   '_check_played_after_player_victory': 0.466,\n",
       "   '_check_played_after_draw_game': 0.0,\n",
       "   'inappropriate_end_state': 0.192,\n",
       "   '_check_if_illegal_moves': 0.658}),\n",
       " (400,\n",
       "  {'_check_played_repeat_moves': 0.006,\n",
       "   '_check_played_after_player_victory': 0.368,\n",
       "   '_check_played_after_draw_game': 0.0,\n",
       "   'inappropriate_end_state': 0.184,\n",
       "   '_check_if_illegal_moves': 0.554}),\n",
       " (500,\n",
       "  {'_check_played_repeat_moves': 0.012,\n",
       "   '_check_played_after_player_victory': 0.132,\n",
       "   '_check_played_after_draw_game': 0.0,\n",
       "   'inappropriate_end_state': 0.04,\n",
       "   '_check_if_illegal_moves': 0.184}),\n",
       " (600,\n",
       "  {'_check_played_repeat_moves': 0.004,\n",
       "   '_check_played_after_player_victory': 0.002,\n",
       "   '_check_played_after_draw_game': 0.0,\n",
       "   'inappropriate_end_state': 0.002,\n",
       "   '_check_if_illegal_moves': 0.008}),\n",
       " (700,\n",
       "  {'_check_played_repeat_moves': 0.002,\n",
       "   '_check_played_after_player_victory': 0.002,\n",
       "   '_check_played_after_draw_game': 0.0,\n",
       "   'inappropriate_end_state': 0.002,\n",
       "   '_check_if_illegal_moves': 0.006}),\n",
       " (800,\n",
       "  {'_check_played_repeat_moves': 0.0,\n",
       "   '_check_played_after_player_victory': 0.0,\n",
       "   '_check_played_after_draw_game': 0.0,\n",
       "   'inappropriate_end_state': 0.0,\n",
       "   '_check_if_illegal_moves': 0.0}),\n",
       " (900,\n",
       "  {'_check_played_repeat_moves': 0.0,\n",
       "   '_check_played_after_player_victory': 0.0,\n",
       "   '_check_played_after_draw_game': 0.0,\n",
       "   'inappropriate_end_state': 0.0,\n",
       "   '_check_if_illegal_moves': 0.0})]"
      ]
     },
     "execution_count": 37,
     "metadata": {},
     "output_type": "execute_result"
    }
   ],
   "source": [
    "chkpt_evals"
   ]
  }
 ],
 "metadata": {
  "kernelspec": {
   "display_name": ".venv",
   "language": "python",
   "name": "python3"
  },
  "language_info": {
   "codemirror_mode": {
    "name": "ipython",
    "version": 3
   },
   "file_extension": ".py",
   "mimetype": "text/x-python",
   "name": "python",
   "nbconvert_exporter": "python",
   "pygments_lexer": "ipython3",
   "version": "3.10.18"
  },
  "orig_nbformat": 4
 },
 "nbformat": 4,
 "nbformat_minor": 2
}
